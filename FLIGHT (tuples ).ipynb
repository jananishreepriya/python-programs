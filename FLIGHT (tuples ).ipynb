{
 "cells": [
  {
   "cell_type": "code",
   "execution_count": 1,
   "id": "a81d2836-d0a6-4d98-9e7e-3cbe60102e04",
   "metadata": {},
   "outputs": [
    {
     "name": "stdout",
     "output_type": "stream",
     "text": [
      "Available Flights:\n",
      "----------------------------------------\n",
      "1. Flight Number: AI101, Destination: New York, Price: $450\n",
      "2. Flight Number: BA202, Destination: London, Price: $350\n",
      "3. Flight Number: CA303, Destination: Paris, Price: $300\n",
      "4. Flight Number: DA404, Destination: Tokyo, Price: $600\n",
      "5. Flight Number: EA505, Destination: Sydney, Price: $700\n"
     ]
    },
    {
     "name": "stdin",
     "output_type": "stream",
     "text": [
      "\n",
      "Enter the flight number to book (or type 'done' to finish):  AI101\n"
     ]
    },
    {
     "name": "stdout",
     "output_type": "stream",
     "text": [
      "Flight to New York has been booked.\n"
     ]
    },
    {
     "name": "stdin",
     "output_type": "stream",
     "text": [
      "\n",
      "Enter the flight number to book (or type 'done' to finish):  done\n"
     ]
    },
    {
     "name": "stdout",
     "output_type": "stream",
     "text": [
      "\n",
      "Booking Summary:\n",
      "----------------------------------------\n",
      "Flight Number: AI101, Destination: New York, Price: $450\n",
      "----------------------------------------\n",
      "Total Price: $450\n",
      "\n",
      "Thank you for using the Flight Booking System!\n"
     ]
    }
   ],
   "source": [
    "flights = (\n",
    "    (\"AI101\", \"New York\", 450),\n",
    "    (\"BA202\", \"London\", 350),\n",
    "    (\"CA303\", \"Paris\", 300),\n",
    "    (\"DA404\", \"Tokyo\", 600),\n",
    "    (\"EA505\", \"Sydney\", 700),\n",
    ")\n",
    "\n",
    "print(\"Available Flights:\")\n",
    "print(\"-\" * 40)\n",
    "for i, flight in enumerate(flights, start=1):\n",
    "    print(f\"{i}. Flight Number: {flight[0]}, Destination: {flight[1]}, Price: ${flight[2]}\")\n",
    "\n",
    "cart = []\n",
    "while True:\n",
    "    choice = input(\"\\nEnter the flight number to book (or type 'done' to finish): \")\n",
    "    flight_found = False\n",
    "    for flight in flights:\n",
    "        if choice.upper() == flight[0]:\n",
    "            cart.append(flight)\n",
    "            print(f\"Flight to {flight[1]} has been booked.\")\n",
    "            flight_found = True\n",
    "            break\n",
    "    if choice.lower() == \"done\":\n",
    "        break\n",
    "    elif not flight_found:\n",
    "        print(\"Invalid flight number. Please try again.\")\n",
    "\n",
    "if cart:\n",
    "    print(\"\\nBooking Summary:\")\n",
    "    print(\"-\" * 40)\n",
    "    total_cost = 0\n",
    "    for flight in cart:\n",
    "        print(f\"Flight Number: {flight[0]}, Destination: {flight[1]}, Price: ${flight[2]}\")\n",
    "        total_cost += flight[2]\n",
    "    print(\"-\" * 40)\n",
    "    print(f\"Total Price: ${total_cost}\")\n",
    "else:\n",
    "    print(\"\\nNo flights were booked.\")\n",
    "\n",
    "print(\"\\nThank you for using the Flight Booking System!\")"
   ]
  },
  {
   "cell_type": "code",
   "execution_count": null,
   "id": "03d3cbb4-a933-45aa-ae17-4ad02a16a6f5",
   "metadata": {},
   "outputs": [],
   "source": []
  }
 ],
 "metadata": {
  "kernelspec": {
   "display_name": "Python 3",
   "language": "python",
   "name": "python3"
  },
  "language_info": {
   "codemirror_mode": {
    "name": "ipython",
    "version": 3
   },
   "file_extension": ".py",
   "mimetype": "text/x-python",
   "name": "python",
   "nbconvert_exporter": "python",
   "pygments_lexer": "ipython3",
   "version": "3.6.15"
  }
 },
 "nbformat": 4,
 "nbformat_minor": 5
}
